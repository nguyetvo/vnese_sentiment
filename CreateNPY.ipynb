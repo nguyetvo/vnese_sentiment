{
 "cells": [
  {
   "cell_type": "code",
   "execution_count": null,
   "metadata": {
    "colab": {
     "base_uri": "https://localhost:8080/",
     "height": 34
    },
    "colab_type": "code",
    "executionInfo": {
     "elapsed": 1113,
     "status": "ok",
     "timestamp": 1571753138195,
     "user": {
      "displayName": "Chung Nguyen Tat",
      "photoUrl": "https://lh3.googleusercontent.com/a-/AAuE7mASyjv7bT6SuBm900Cr4mngjm71UG1glmpjU29c=s64",
      "userId": "00326304500808701112"
     },
     "user_tz": -420
    },
    "id": "fV0IDdUHC0Ti",
    "outputId": "d22977c1-a4e4-40a6-a969-88d5f4392471"
   },
   "outputs": [
    {
     "name": "stdout",
     "output_type": "stream",
     "text": [
      "Drive already mounted at /content/drive; to attempt to forcibly remount, call drive.mount(\"/content/drive\", force_remount=True).\n"
     ]
    }
   ],
   "source": [
    "from google.colab import drive\n",
    "drive.mount('/content/drive')"
   ]
  },
  {
   "cell_type": "code",
   "execution_count": null,
   "metadata": {
    "colab": {
     "base_uri": "https://localhost:8080/",
     "height": 34
    },
    "colab_type": "code",
    "executionInfo": {
     "elapsed": 1258,
     "status": "ok",
     "timestamp": 1571753145776,
     "user": {
      "displayName": "Chung Nguyen Tat",
      "photoUrl": "https://lh3.googleusercontent.com/a-/AAuE7mASyjv7bT6SuBm900Cr4mngjm71UG1glmpjU29c=s64",
      "userId": "00326304500808701112"
     },
     "user_tz": -420
    },
    "id": "awDgKd_SC4tA",
    "outputId": "50aec02b-f9fc-470c-a29b-009328968026"
   },
   "outputs": [
    {
     "name": "stdout",
     "output_type": "stream",
     "text": [
      "/content/drive/My Drive/Sentiment\n"
     ]
    }
   ],
   "source": [
    "cd '/content/drive/My Drive/Sentiment'"
   ]
  },
  {
   "cell_type": "code",
   "execution_count": 1,
   "metadata": {
    "colab": {
     "base_uri": "https://localhost:8080/",
     "height": 34
    },
    "colab_type": "code",
    "executionInfo": {
     "elapsed": 874,
     "status": "ok",
     "timestamp": 1571753147120,
     "user": {
      "displayName": "Chung Nguyen Tat",
      "photoUrl": "https://lh3.googleusercontent.com/a-/AAuE7mASyjv7bT6SuBm900Cr4mngjm71UG1glmpjU29c=s64",
      "userId": "00326304500808701112"
     },
     "user_tz": -420
    },
    "id": "6eTL7z0pDaz5",
    "outputId": "4ead4c5b-8758-441d-f531-f3b8b816e0ac"
   },
   "outputs": [
    {
     "name": "stderr",
     "output_type": "stream",
     "text": [
      "Using TensorFlow backend.\n"
     ]
    },
    {
     "data": {
      "text/plain": [
       "'/home/jovyan/work/tonga/Sentiment'"
      ]
     },
     "execution_count": 1,
     "metadata": {},
     "output_type": "execute_result"
    }
   ],
   "source": [
    "import os\n",
    "import sys\n",
    "import time\n",
    "import datetime\n",
    "import math\n",
    "\n",
    "import keras\n",
    "from keras.models import Sequential\n",
    "\n",
    "import numpy as np  \n",
    "import pandas as pd\n",
    "from tqdm import tqdm\n",
    "\n",
    "from sklearn.model_selection import train_test_split\n",
    "from sklearn.metrics import f1_score\n",
    "import tensorflow as tf\n",
    "\n",
    "import warnings\n",
    "warnings.filterwarnings(\"ignore\")\n",
    "data_dir = os.getcwd()\n",
    "data_dir"
   ]
  },
  {
   "cell_type": "code",
   "execution_count": 2,
   "metadata": {
    "colab": {},
    "colab_type": "code",
    "id": "6FsgYooY9mgQ"
   },
   "outputs": [],
   "source": [
    "import io\n",
    "\n",
    "def load_vectors(file_name):\n",
    "    # file_name: the file name (*.text)\n",
    "    fin = io.open(file_name, 'r', encoding='utf-8', newline='\\n', errors='ignore')\n",
    "    n, d = map(int, fin.readline().split())\n",
    "    data = {}\n",
    "    for line in fin:\n",
    "        #removes any trailing characters and splits the string\n",
    "        tokens = line.rstrip().split(' ')\n",
    "        data[tokens[0]] = np.array(tokens[1:], dtype=np.float64)\n",
    "    return data"
   ]
  },
  {
   "cell_type": "code",
   "execution_count": 3,
   "metadata": {
    "colab": {},
    "colab_type": "code",
    "id": "iZ27QjFr97ot"
   },
   "outputs": [],
   "source": [
    "from gensim.models.keyedvectors import KeyedVectors\n",
    "\n",
    "#Load data from baomoi.model.bin (binary file)\n",
    "model = KeyedVectors.load_word2vec_format(data_dir + '/baomoi.model.bin', binary=True)\n",
    "model.save_word2vec_format(data_dir + '/baomoi.text', binary=False)"
   ]
  },
  {
   "cell_type": "code",
   "execution_count": null,
   "metadata": {
    "colab": {
     "base_uri": "https://localhost:8080/",
     "height": 34
    },
    "colab_type": "code",
    "executionInfo": {
     "elapsed": 57729,
     "status": "ok",
     "timestamp": 1571753410843,
     "user": {
      "displayName": "Chung Nguyen Tat",
      "photoUrl": "https://lh3.googleusercontent.com/a-/AAuE7mASyjv7bT6SuBm900Cr4mngjm71UG1glmpjU29c=s64",
      "userId": "00326304500808701112"
     },
     "user_tz": -420
    },
    "id": "GaogRZ_cFBQ0",
    "outputId": "157ee728-c6f1-49ac-8a15-edfa0f9ecd47"
   },
   "outputs": [],
   "source": [
    "data_frame = load_vectors('baomoi.text')\n",
    "type(data_frame)"
   ]
  },
  {
   "cell_type": "code",
   "execution_count": null,
   "metadata": {
    "colab": {
     "base_uri": "https://localhost:8080/",
     "height": 34
    },
    "colab_type": "code",
    "executionInfo": {
     "elapsed": 1130,
     "status": "ok",
     "timestamp": 1571753440734,
     "user": {
      "displayName": "Chung Nguyen Tat",
      "photoUrl": "https://lh3.googleusercontent.com/a-/AAuE7mASyjv7bT6SuBm900Cr4mngjm71UG1glmpjU29c=s64",
      "userId": "00326304500808701112"
     },
     "user_tz": -420
    },
    "id": "xeYs-UUOAY9l",
    "outputId": "f7994388-74d4-435c-d659-fc693e7cd1ec"
   },
   "outputs": [],
   "source": [
    "# data_frame: {word:vector}\n",
    "#View an example from data_frame\n",
    "data_frame['học_tốt'].shape"
   ]
  },
  {
   "cell_type": "code",
   "execution_count": null,
   "metadata": {
    "colab": {},
    "colab_type": "code",
    "id": "ZceXJ5nF8QRy"
   },
   "outputs": [],
   "source": [
    "#Get list of words from data_frame\n",
    "word_list=list(data_frame.keys())\n",
    "#Get list of vector from data_frame\n",
    "vector_list = list(data_frame.values())\n",
    "#Convert vector_list to numpy.array\n",
    "word_vector = np.array(vector_list)"
   ]
  },
  {
   "cell_type": "code",
   "execution_count": null,
   "metadata": {
    "colab": {},
    "colab_type": "code",
    "id": "cMMPeHTHO517"
   },
   "outputs": [],
   "source": [
    "# Save file as type *.npy\n",
    "np.save('baomoi_word_list.npy', word_list)\n",
    "np.save('baomoi_word_vector.npy', word_vector)"
   ]
  }
 ],
 "metadata": {
  "accelerator": "GPU",
  "colab": {
   "collapsed_sections": [],
   "name": "CreateNPY.ipynb",
   "provenance": []
  },
  "kernelspec": {
   "display_name": "Python 3",
   "language": "python",
   "name": "python3"
  },
  "language_info": {
   "codemirror_mode": {
    "name": "ipython",
    "version": 3
   },
   "file_extension": ".py",
   "mimetype": "text/x-python",
   "name": "python",
   "nbconvert_exporter": "python",
   "pygments_lexer": "ipython3",
   "version": "3.7.4"
  }
 },
 "nbformat": 4,
 "nbformat_minor": 4
}

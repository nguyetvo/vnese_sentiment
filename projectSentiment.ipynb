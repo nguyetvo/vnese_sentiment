{
 "cells": [
  {
   "cell_type": "markdown",
   "metadata": {
    "colab_type": "text",
    "id": "v1y2yLJzAHss"
   },
   "source": [
    "# Phân tích cảm xúc với LSTM\n"
   ]
  },
  {
   "cell_type": "code",
   "execution_count": 1,
   "metadata": {
    "colab": {
     "base_uri": "https://localhost:8080/",
     "height": 124
    },
    "colab_type": "code",
    "executionInfo": {
     "elapsed": 27586,
     "status": "ok",
     "timestamp": 1572279089128,
     "user": {
      "displayName": "Chung Nguyen Tat",
      "photoUrl": "https://lh3.googleusercontent.com/a-/AAuE7mASyjv7bT6SuBm900Cr4mngjm71UG1glmpjU29c=s64",
      "userId": "00326304500808701112"
     },
     "user_tz": -420
    },
    "id": "jCq61mxh5siO",
    "outputId": "d8f5625c-dc3f-4582-aed6-137d7bc58e26"
   },
   "outputs": [
    {
     "name": "stdout",
     "output_type": "stream",
     "text": [
      "Go to this URL in a browser: https://accounts.google.com/o/oauth2/auth?client_id=947318989803-6bn6qk8qdgf4n4g3pfee6491hc0brc4i.apps.googleusercontent.com&redirect_uri=urn%3Aietf%3Awg%3Aoauth%3A2.0%3Aoob&scope=email%20https%3A%2F%2Fwww.googleapis.com%2Fauth%2Fdocs.test%20https%3A%2F%2Fwww.googleapis.com%2Fauth%2Fdrive%20https%3A%2F%2Fwww.googleapis.com%2Fauth%2Fdrive.photos.readonly%20https%3A%2F%2Fwww.googleapis.com%2Fauth%2Fpeopleapi.readonly&response_type=code\n",
      "\n",
      "Enter your authorization code:\n",
      "··········\n",
      "Mounted at /content/drive\n"
     ]
    }
   ],
   "source": [
    "from google.colab import drive\n",
    "drive.mount('/content/drive')"
   ]
  },
  {
   "cell_type": "code",
   "execution_count": 2,
   "metadata": {
    "colab": {
     "base_uri": "https://localhost:8080/",
     "height": 34
    },
    "colab_type": "code",
    "executionInfo": {
     "elapsed": 27576,
     "status": "ok",
     "timestamp": 1572279089134,
     "user": {
      "displayName": "Chung Nguyen Tat",
      "photoUrl": "https://lh3.googleusercontent.com/a-/AAuE7mASyjv7bT6SuBm900Cr4mngjm71UG1glmpjU29c=s64",
      "userId": "00326304500808701112"
     },
     "user_tz": -420
    },
    "id": "uASQQ-RX6Br6",
    "outputId": "02012e8b-0bf6-4dda-9b65-12cafe6779a0"
   },
   "outputs": [
    {
     "name": "stdout",
     "output_type": "stream",
     "text": [
      "/content/drive/My Drive/Sentiment\n"
     ]
    }
   ],
   "source": [
    "cd '/content/drive/My Drive/Sentiment'"
   ]
  },
  {
   "cell_type": "markdown",
   "metadata": {
    "colab_type": "text",
    "id": "bsbLZvgtBg96"
   },
   "source": [
    "## Import các thư viện cần thiết"
   ]
  },
  {
   "cell_type": "code",
   "execution_count": 3,
   "metadata": {
    "colab": {
     "base_uri": "https://localhost:8080/",
     "height": 64
    },
    "colab_type": "code",
    "executionInfo": {
     "elapsed": 30304,
     "status": "ok",
     "timestamp": 1572279091867,
     "user": {
      "displayName": "Chung Nguyen Tat",
      "photoUrl": "https://lh3.googleusercontent.com/a-/AAuE7mASyjv7bT6SuBm900Cr4mngjm71UG1glmpjU29c=s64",
      "userId": "00326304500808701112"
     },
     "user_tz": -420
    },
    "id": "tqiyPD1uQziC",
    "outputId": "ed75672a-e02e-45d8-d440-1675eb879195"
   },
   "outputs": [
    {
     "data": {
      "text/html": [
       "<p style=\"color: red;\">\n",
       "The default version of TensorFlow in Colab will soon switch to TensorFlow 2.x.<br>\n",
       "We recommend you <a href=\"https://www.tensorflow.org/guide/migrate\" target=\"_blank\">upgrade</a> now \n",
       "or ensure your notebook will continue to use TensorFlow 1.x via the <code>%tensorflow_version 1.x</code> magic:\n",
       "<a href=\"https://colab.research.google.com/notebooks/tensorflow_version.ipynb\" target=\"_blank\">more info</a>.</p>\n"
      ],
      "text/plain": [
       "<IPython.core.display.HTML object>"
      ]
     },
     "metadata": {
      "tags": []
     },
     "output_type": "display_data"
    }
   ],
   "source": [
    "import os\n",
    "import sys\n",
    "import time\n",
    "import datetime\n",
    "import math\n",
    "\n",
    "import numpy as np\n",
    "import pandas as pd\n",
    "from tqdm import tqdm\n",
    "\n",
    "from sklearn.model_selection import train_test_split\n",
    "from sklearn.metrics import f1_score\n",
    "import tensorflow as tf\n",
    "\n",
    "import warnings\n",
    "warnings.filterwarnings(\"ignore\")"
   ]
  },
  {
   "cell_type": "markdown",
   "metadata": {
    "colab_type": "text",
    "id": "uVuAV9M1QF9i"
   },
   "source": [
    "## Dữ liệu huấn luyện"
   ]
  },
  {
   "cell_type": "code",
   "execution_count": 4,
   "metadata": {
    "colab": {
     "base_uri": "https://localhost:8080/",
     "height": 328
    },
    "colab_type": "code",
    "executionInfo": {
     "elapsed": 32019,
     "status": "ok",
     "timestamp": 1572279093596,
     "user": {
      "displayName": "Chung Nguyen Tat",
      "photoUrl": "https://lh3.googleusercontent.com/a-/AAuE7mASyjv7bT6SuBm900Cr4mngjm71UG1glmpjU29c=s64",
      "userId": "00326304500808701112"
     },
     "user_tz": -420
    },
    "id": "TOeEVsU_B_mX",
    "outputId": "26a12e88-1115-4131-b4cb-933ab5364294"
   },
   "outputs": [
    {
     "data": {
      "text/html": [
       "<div>\n",
       "<style scoped>\n",
       "    .dataframe tbody tr th:only-of-type {\n",
       "        vertical-align: middle;\n",
       "    }\n",
       "\n",
       "    .dataframe tbody tr th {\n",
       "        vertical-align: top;\n",
       "    }\n",
       "\n",
       "    .dataframe thead th {\n",
       "        text-align: right;\n",
       "    }\n",
       "</style>\n",
       "<table border=\"1\" class=\"dataframe\">\n",
       "  <thead>\n",
       "    <tr style=\"text-align: right;\">\n",
       "      <th></th>\n",
       "      <th>id</th>\n",
       "      <th>text</th>\n",
       "      <th>class</th>\n",
       "    </tr>\n",
       "  </thead>\n",
       "  <tbody>\n",
       "    <tr>\n",
       "      <th>0</th>\n",
       "      <td>dee6dfc5</td>\n",
       "      <td>Đến quán 2 lần thôi , rất là thích !\\nQuán tuy nằm trong hẻm nhưng rất dễ tìm , quán rộng_rãi thoáng mát sạch_sẽ .\\nNhân_viên phục_vụ nhiệt_tình , siêu dễ_thương .\\nThực_đơn phong_phú đa_dạng , giá siêu rẻ .\\nThức_ăn nêm nếm hợp_khẩu vị , ngon_miệng .\\nDesert ngọt vừa , không quá ngấy , rất ngon .\\nTrà sữa , uyên_ương thơm và đúng vị mình đã từng uống ở HongKong .\\nNói_chung điểm 10 cho chất_lượng , thích quán lắm !</td>\n",
       "      <td>1</td>\n",
       "    </tr>\n",
       "    <tr>\n",
       "      <th>1</th>\n",
       "      <td>800813f5</td>\n",
       "      <td>Đến quán vào tối chủ_nhật . Có band hát . Khá ổn . Tuy_nhiên không_gian tầng 1 hơi hẹp . Ngồi cả ra vỉa_hè . Đồ uống ko ngon lămz</td>\n",
       "      <td>0</td>\n",
       "    </tr>\n",
       "    <tr>\n",
       "      <th>2</th>\n",
       "      <td>6553e47f</td>\n",
       "      <td>Phục_vụ lâu quá mặc_dù khách rất vắng .\\nĐợi gần 15p mới mang được ly cà_phê ra . Ông này chỉ khéo quảng_bá chứ với mình chắc không quay lại_nữa .</td>\n",
       "      <td>0</td>\n",
       "    </tr>\n",
       "    <tr>\n",
       "      <th>3</th>\n",
       "      <td>b45a1ff1</td>\n",
       "      <td>Ko gian bé_tí , quán chật_chội , đông người nên phục_vụ chưa tốt . Đồ uống bình_thường ( đặc_biệt khi so với giá_cả ) và ko có gì đặc_sắc cả .</td>\n",
       "      <td>0</td>\n",
       "    </tr>\n",
       "    <tr>\n",
       "      <th>4</th>\n",
       "      <td>f92694b0</td>\n",
       "      <td>Khi mình order , đặt bánh thì nhận được sự tiếp_đãi , tư_vấn và nói_chuyện rất gần_gũi , rất nhiệt_tình .\\nBánh thì rất tuyệt , nhân béo , rau_câu không dùng phẩm . Sau_này có dịp sinh_nhật , mình sẽ order mẫu lớn .\\nChúc các bạn làm_ăn phát_đạt !</td>\n",
       "      <td>1</td>\n",
       "    </tr>\n",
       "  </tbody>\n",
       "</table>\n",
       "</div>"
      ],
      "text/plain": [
       "         id  ... class\n",
       "0  dee6dfc5  ...     1\n",
       "1  800813f5  ...     0\n",
       "2  6553e47f  ...     0\n",
       "3  b45a1ff1  ...     0\n",
       "4  f92694b0  ...     1\n",
       "\n",
       "[5 rows x 3 columns]"
      ]
     },
     "execution_count": 4,
     "metadata": {
      "tags": []
     },
     "output_type": "execute_result"
    }
   ],
   "source": [
    "data_dir = os.getcwd()\n",
    "save_dir = os.path.join(os.getcwd(), 'saved_models')\n",
    "\n",
    "pd.options.display.max_colwidth = 1000\n",
    "#Đọc file data.csv \n",
    "data_df = pd.read_csv(os.path.join(data_dir, 'data.csv'))\n",
    "data_df.head()"
   ]
  },
  {
   "cell_type": "code",
   "execution_count": 5,
   "metadata": {
    "colab": {
     "base_uri": "https://localhost:8080/",
     "height": 52
    },
    "colab_type": "code",
    "executionInfo": {
     "elapsed": 49624,
     "status": "ok",
     "timestamp": 1572279111213,
     "user": {
      "displayName": "Chung Nguyen Tat",
      "photoUrl": "https://lh3.googleusercontent.com/a-/AAuE7mASyjv7bT6SuBm900Cr4mngjm71UG1glmpjU29c=s64",
      "userId": "00326304500808701112"
     },
     "user_tz": -420
    },
    "id": "ObRlAygvCwcE",
    "outputId": "c43c991c-ee21-4cae-87c5-0993564477ca"
   },
   "outputs": [
    {
     "name": "stdout",
     "output_type": "stream",
     "text": [
      "Tập các từ đã tải\n",
      "Tập vector đã tải\n"
     ]
    }
   ],
   "source": [
    "#Load dữ liệu từ 2 file *.npy vừa tạo được từ file CreateNPY.ipynb\n",
    "words_list = np.load(os.path.join(data_dir, 'baomoi_word_list.npy'))\n",
    "words_list = words_list.tolist()\n",
    "print('Tập các từ đã tải')\n",
    "words_vector = np.load(os.path.join(data_dir, 'baomoi_word_vector.npy'))\n",
    "words_vector = np.float32(words_vector)\n",
    "print ('Tập vector đã tải')"
   ]
  },
  {
   "cell_type": "code",
   "execution_count": 6,
   "metadata": {
    "colab": {
     "base_uri": "https://localhost:8080/",
     "height": 52
    },
    "colab_type": "code",
    "executionInfo": {
     "elapsed": 49618,
     "status": "ok",
     "timestamp": 1572279111218,
     "user": {
      "displayName": "Chung Nguyen Tat",
      "photoUrl": "https://lh3.googleusercontent.com/a-/AAuE7mASyjv7bT6SuBm900Cr4mngjm71UG1glmpjU29c=s64",
      "userId": "00326304500808701112"
     },
     "user_tz": -420
    },
    "id": "kU3jH0ciS1hB",
    "outputId": "afd3afe1-e81f-4255-b1ec-e9ffc84bfd95"
   },
   "outputs": [
    {
     "name": "stdout",
     "output_type": "stream",
     "text": [
      "Có  439056  từ trong từ điển vector\n",
      "Ví dụ index của từ 'yêu' là:  346\n"
     ]
    }
   ],
   "source": [
    "#Tạo Dict: {word:index}\n",
    "word2idx = {w:i for i,w in enumerate(words_list)}\n",
    "print(\"Có \", len(word2idx), \" từ trong từ điển vector\")\n",
    "print(\"Ví dụ index của từ \\'yêu\\' là: \", word2idx['yêu'])"
   ]
  },
  {
   "cell_type": "code",
   "execution_count": null,
   "metadata": {
    "colab": {},
    "colab_type": "code",
    "id": "Gzdda_OD8Ejo"
   },
   "outputs": [],
   "source": [
    "# Loại bỏ các dấu câu, dấu ngoặc, chấm than chấm hỏi, vân vân..., chỉ chừa lại các kí tự chữ và số\n",
    "import re\n",
    "\n",
    "strip_special_chars = re.compile(\"[^\\w0-9 ]+\")\n",
    "def clean_sentences(string):\n",
    "    #Hàm xử lý, loại bỏ đi những kí tự đặc biệt trả về các từ ở dạng viết thường\n",
    "    string = string.lower().replace(\"<br />\", \" \")\n",
    "    return re.sub(strip_special_chars, \"\", string.lower())\n",
    "\n",
    "def get_sentence_indices(sentence, max_seq_length, _words_list):\n",
    "    \"\"\"\n",
    "    Hàm này dùng để lấy index cho từng từ trong câu (không có dấu câu, có thể in hoa)\n",
    "    ----------\n",
    "    sentence: câu cần xử lý\n",
    "    max_seq_length: giới hạn số từ tối đa trong câu\n",
    "    _words_list: bản sao local của words_list, được truyền vào hàm\n",
    "    ----------\n",
    "    \"\"\"\n",
    "    indices = np.zeros((max_seq_length), dtype='int32')\n",
    "    \n",
    "    # Tách câu thành từng tiếng\n",
    "    words = [word.lower() for word in sentence.split()]\n",
    "    # Các từ không có trong câu đều không có trong words_list được gán chỉ số của 'unk' \n",
    "    unk_idx = word2idx['unk']\n",
    "    for idx, word in enumerate(words[:max_seq_length]):\n",
    "      try:\n",
    "        indices[idx] = word2idx[word]\n",
    "      except:\n",
    "        indices[idx] = unk_idx\n",
    "        \n",
    "    return indices\n",
    "\n",
    "def text2indices(data_frame, max_length, _word_list):\n",
    "    \"\"\"\n",
    "    Biến đổi các text trong dataframe thành ma trận index\n",
    "    ----------\n",
    "    data_frame: dataframe\n",
    "        data frame chứa các text cần biến đổi\n",
    "    max_length: int\n",
    "        độ dài tối đa của một text\n",
    "    _word_list: numpy.array\n",
    "        array chứa các từ \n",
    "    ----------\n",
    "    numpy.array\n",
    "        len(data_frame) x max_length contains indices of text\n",
    "    \"\"\"\n",
    "    indices = np.zeros((len(data_frame), max_length), dtype='int32')\n",
    "    for idx, text in enumerate(tqdm(data_frame['text'])):\n",
    "        indices[idx,:] = get_sentence_indices(clean_sentences(text), max_length, _word_list)\n",
    "    return indices"
   ]
  },
  {
   "cell_type": "markdown",
   "metadata": {
    "colab_type": "text",
    "id": "4GiszhbvNmQU"
   },
   "source": [
    "## Khảo sát dữ liệu huấn luyện"
   ]
  },
  {
   "cell_type": "markdown",
   "metadata": {
    "colab_type": "text",
    "id": "_IJJ35NCQics"
   },
   "source": [
    "Với khối lượng dữ liệu lớn (27,000 mẫu), nếu chúng ta chọn đặt giới hạn số từ tối đa cho một câu (MAX_SEQ_LENGTH) quá cao thì sẽ phí bộ nhớ khi biểu diễn những câu review quá ngắn. Ngược lại, nếu đặt giới hạn quá thấp thì ở những câu dài, ta sẽ bị mất các từ cuối, có khả năng ảnh hưởng đến việc suy đoán cảm xúc.\n",
    "\n",
    "Vì vậy, ta cần thống kê độ dài của các mẫu dữ liệu huấn luyện."
   ]
  },
  {
   "cell_type": "code",
   "execution_count": 8,
   "metadata": {
    "colab": {
     "base_uri": "https://localhost:8080/",
     "height": 69
    },
    "colab_type": "code",
    "executionInfo": {
     "elapsed": 49926,
     "status": "ok",
     "timestamp": 1572279111545,
     "user": {
      "displayName": "Chung Nguyen Tat",
      "photoUrl": "https://lh3.googleusercontent.com/a-/AAuE7mASyjv7bT6SuBm900Cr4mngjm71UG1glmpjU29c=s64",
      "userId": "00326304500808701112"
     },
     "user_tz": -420
    },
    "id": "ALLMDQ5MNtbS",
    "outputId": "1a390e39-75aa-40b2-c137-8d5975056869"
   },
   "outputs": [
    {
     "name": "stdout",
     "output_type": "stream",
     "text": [
      "The total number of samples is 27000\n",
      "The total number of words in the files is 2252760\n",
      "The average number of words in the files is 83.43555555555555\n"
     ]
    }
   ],
   "source": [
    "num_words = [len(clean_sentences(x).split()) for x in list(data_df['text'])]\n",
    "print('The total number of samples is', len(data_df))\n",
    "print('The total number of words in the files is', sum(num_words))\n",
    "print('The average number of words in the files is', sum(num_words)/len(num_words))"
   ]
  },
  {
   "cell_type": "code",
   "execution_count": 9,
   "metadata": {
    "colab": {
     "base_uri": "https://localhost:8080/",
     "height": 284
    },
    "colab_type": "code",
    "executionInfo": {
     "elapsed": 50818,
     "status": "ok",
     "timestamp": 1572279112448,
     "user": {
      "displayName": "Chung Nguyen Tat",
      "photoUrl": "https://lh3.googleusercontent.com/a-/AAuE7mASyjv7bT6SuBm900Cr4mngjm71UG1glmpjU29c=s64",
      "userId": "00326304500808701112"
     },
     "user_tz": -420
    },
    "id": "QI8BBk-hOazv",
    "outputId": "40eb2428-b437-41f0-f358-0cf4d902776d"
   },
   "outputs": [
    {
     "data": {
      "image/png": "[encoded data removed]",
      "text/plain": [
       "<Figure size 432x288 with 1 Axes>"
      ]
     },
     "metadata": {
      "tags": []
     },
     "output_type": "display_data"
    }
   ],
   "source": [
    "import matplotlib.pyplot as plt\n",
    "%matplotlib inline\n",
    "plt.hist(num_words, 100)\n",
    "plt.xlabel('Số từ trong câu')\n",
    "plt.ylabel('Tần số')\n",
    "plt.axis([0, 600, 0, 5000])\n",
    "plt.show()"
   ]
  },
  {
   "cell_type": "markdown",
   "metadata": {
    "colab_type": "text",
    "id": "DU0q-pKRQy5x"
   },
   "source": [
    "Từ biểu đồ trên ta chọn số số từ trong mỗi câu tối đa khoảng 200 từ"
   ]
  },
  {
   "cell_type": "code",
   "execution_count": null,
   "metadata": {
    "colab": {},
    "colab_type": "code",
    "id": "0E9bSMlBOjCY"
   },
   "outputs": [],
   "source": [
    "MAX_SEQ_LENGTH = 200"
   ]
  },
  {
   "cell_type": "code",
   "execution_count": 11,
   "metadata": {
    "colab": {
     "base_uri": "https://localhost:8080/",
     "height": 52
    },
    "colab_type": "code",
    "executionInfo": {
     "elapsed": 54154,
     "status": "ok",
     "timestamp": 1572279115799,
     "user": {
      "displayName": "Chung Nguyen Tat",
      "photoUrl": "https://lh3.googleusercontent.com/a-/AAuE7mASyjv7bT6SuBm900Cr4mngjm71UG1glmpjU29c=s64",
      "userId": "00326304500808701112"
     },
     "user_tz": -420
    },
    "id": "iuzZrqA5G6Aq",
    "outputId": "388b780a-3e93-422f-87b5-8b6c0c797c08"
   },
   "outputs": [
    {
     "name": "stderr",
     "output_type": "stream",
     "text": [
      "100%|██████████| 27000/27000 [00:02<00:00, 11184.84it/s]\n"
     ]
    },
    {
     "data": {
      "text/plain": [
       "(27000, 200)"
      ]
     },
     "execution_count": 11,
     "metadata": {
      "tags": []
     },
     "output_type": "execute_result"
    }
   ],
   "source": [
    "#Chuyển dữ liệu vào thành ma trận chỉ sổ train_ids\n",
    "data_ids = text2indices(data_df, MAX_SEQ_LENGTH, words_list)\n",
    "np.save('data_ids.npy', data_ids)\n",
    "data_ids = np.load('data_ids.npy')\n",
    "data_ids.shape"
   ]
  },
  {
   "cell_type": "markdown",
   "metadata": {
    "colab_type": "text",
    "id": "AkOCkvpM_jKN"
   },
   "source": [
    "# **Chuẩn bị huấn luyện**"
   ]
  },
  {
   "cell_type": "markdown",
   "metadata": {
    "colab_type": "text",
    "id": "meAfWeqYH2BP"
   },
   "source": [
    "Chia dữ liệu huấn luyện trong tập data chia thành các tập: train:validation:test = 8:1:1"
   ]
  },
  {
   "cell_type": "code",
   "execution_count": null,
   "metadata": {
    "colab": {},
    "colab_type": "code",
    "id": "xaO9FnoUHnE4"
   },
   "outputs": [],
   "source": [
    "#Chia dữ liệu huấn luyện thành 3 tập train:validation:test = 8:1:1\n",
    "train_x, test_validation_x, train_y, test_validation_y  = train_test_split(data_ids, data_df['class'], test_size=0.2, random_state=2019)\n",
    "validation_x, test_x, validation_y, test_y = train_test_split(test_validation_x, test_validation_y, test_size=0.5, random_state=2018)\n",
    "#Chuyển ma trận chỉ số thành ma trận vector \n",
    "train_x = tf.nn.embedding_lookup(words_vector, train_x)\n",
    "validation_x = tf.nn.embedding_lookup(words_vector, validation_x)\n",
    "test_x = tf.nn.embedding_lookup(words_vector, test_x)"
   ]
  },
  {
   "cell_type": "code",
   "execution_count": 13,
   "metadata": {
    "colab": {
     "base_uri": "https://localhost:8080/",
     "height": 34
    },
    "colab_type": "code",
    "executionInfo": {
     "elapsed": 77789,
     "status": "ok",
     "timestamp": 1572279139453,
     "user": {
      "displayName": "Chung Nguyen Tat",
      "photoUrl": "https://lh3.googleusercontent.com/a-/AAuE7mASyjv7bT6SuBm900Cr4mngjm71UG1glmpjU29c=s64",
      "userId": "00326304500808701112"
     },
     "user_tz": -420
    },
    "id": "uonA71HfbX-u",
    "outputId": "5d10ef53-1989-4ff2-c4a9-0e5de3954be7"
   },
   "outputs": [
    {
     "name": "stdout",
     "output_type": "stream",
     "text": [
      "Đã định dạng về dạng nummpy.array\n"
     ]
    }
   ],
   "source": [
    "#Định dạng ma trận vector về numpy.array\n",
    "_train_x = tf.Session().run(train_x)\n",
    "_validation_x = tf.Session().run(validation_x)\n",
    "_test_x = tf.Session().run(test_x)\n",
    "print(\"Đã định dạng về dạng nummpy.array\")"
   ]
  },
  {
   "cell_type": "markdown",
   "metadata": {
    "colab_type": "text",
    "id": "6d_TZgX9AfH6"
   },
   "source": [
    "# **Xây dựng model RNN**"
   ]
  },
  {
   "cell_type": "code",
   "execution_count": 14,
   "metadata": {
    "colab": {
     "base_uri": "https://localhost:8080/",
     "height": 714
    },
    "colab_type": "code",
    "executionInfo": {
     "elapsed": 78938,
     "status": "ok",
     "timestamp": 1572279140614,
     "user": {
      "displayName": "Chung Nguyen Tat",
      "photoUrl": "https://lh3.googleusercontent.com/a-/AAuE7mASyjv7bT6SuBm900Cr4mngjm71UG1glmpjU29c=s64",
      "userId": "00326304500808701112"
     },
     "user_tz": -420
    },
    "id": "1DWa4R0BNaV_",
    "outputId": "2efeacbe-8e05-4e76-a218-cba4b5d259cd"
   },
   "outputs": [
    {
     "name": "stdout",
     "output_type": "stream",
     "text": [
      "WARNING:tensorflow:From /usr/local/lib/python3.6/dist-packages/keras/backend/tensorflow_backend.py:66: The name tf.get_default_graph is deprecated. Please use tf.compat.v1.get_default_graph instead.\n",
      "\n",
      "WARNING:tensorflow:From /usr/local/lib/python3.6/dist-packages/keras/backend/tensorflow_backend.py:541: The name tf.placeholder is deprecated. Please use tf.compat.v1.placeholder instead.\n",
      "\n",
      "WARNING:tensorflow:From /usr/local/lib/python3.6/dist-packages/keras/backend/tensorflow_backend.py:4432: The name tf.random_uniform is deprecated. Please use tf.random.uniform instead.\n",
      "\n"
     ]
    },
    {
     "name": "stderr",
     "output_type": "stream",
     "text": [
      "Using TensorFlow backend.\n"
     ]
    },
    {
     "name": "stdout",
     "output_type": "stream",
     "text": [
      "WARNING:tensorflow:From /usr/local/lib/python3.6/dist-packages/keras/backend/tensorflow_backend.py:148: The name tf.placeholder_with_default is deprecated. Please use tf.compat.v1.placeholder_with_default instead.\n",
      "\n",
      "WARNING:tensorflow:From /usr/local/lib/python3.6/dist-packages/keras/backend/tensorflow_backend.py:3733: calling dropout (from tensorflow.python.ops.nn_ops) with keep_prob is deprecated and will be removed in a future version.\n",
      "Instructions for updating:\n",
      "Please use `rate` instead of `keep_prob`. Rate should be set to `rate = 1 - keep_prob`.\n",
      "WARNING:tensorflow:From /usr/local/lib/python3.6/dist-packages/keras/optimizers.py:793: The name tf.train.Optimizer is deprecated. Please use tf.compat.v1.train.Optimizer instead.\n",
      "\n",
      "WARNING:tensorflow:From /usr/local/lib/python3.6/dist-packages/keras/backend/tensorflow_backend.py:3657: The name tf.log is deprecated. Please use tf.math.log instead.\n",
      "\n",
      "WARNING:tensorflow:From /usr/local/lib/python3.6/dist-packages/tensorflow_core/python/ops/nn_impl.py:183: where (from tensorflow.python.ops.array_ops) is deprecated and will be removed in a future version.\n",
      "Instructions for updating:\n",
      "Use tf.where in 2.0, which has the same broadcast rule as np.where\n",
      "Model: \"sequential_1\"\n",
      "_________________________________________________________________\n",
      "Layer (type)                 Output Shape              Param #   \n",
      "=================================================================\n",
      "bidirectional_1 (Bidirection (None, 200, 256)          541696    \n",
      "_________________________________________________________________\n",
      "dropout_1 (Dropout)          (None, 200, 256)          0         \n",
      "_________________________________________________________________\n",
      "bidirectional_2 (Bidirection (None, 256)               394240    \n",
      "_________________________________________________________________\n",
      "dropout_2 (Dropout)          (None, 256)               0         \n",
      "_________________________________________________________________\n",
      "dense_1 (Dense)              (None, 128)               32896     \n",
      "_________________________________________________________________\n",
      "dense_2 (Dense)              (None, 1)                 129       \n",
      "=================================================================\n",
      "Total params: 968,961\n",
      "Trainable params: 968,961\n",
      "Non-trainable params: 0\n",
      "_________________________________________________________________\n"
     ]
    }
   ],
   "source": [
    "import math\n",
    "import numpy\n",
    "import matplotlib.pyplot as plt\n",
    "import keras\n",
    "from pandas import read_csv\n",
    "from keras.models import Sequential\n",
    "from keras.layers import Dense, Bidirectional, LSTM, GRU, CuDNNLSTM, Dropout\n",
    "from sklearn.preprocessing import MinMaxScaler\n",
    "from sklearn.metrics import mean_squared_error\n",
    "from keras.models import load_model\n",
    "\n",
    "LSTM_UNIT = 128\n",
    "DR_RATE = 0.3\n",
    "BATCH_SIZE = 128\n",
    "EPOCHS = 20\n",
    "\n",
    "model = Sequential()\n",
    "\n",
    "model.add(Bidirectional(LSTM(128, return_sequences=True),\n",
    "                        input_shape=(200, 400)))\n",
    "model.add(Dropout(0.3))\n",
    "\n",
    "model.add(Bidirectional(LSTM(128, return_sequences=False)))\n",
    "                        \n",
    "model.add(Dropout(0.3))\n",
    "\n",
    "\n",
    "model.add(Dense(units=128, activation='relu'))\n",
    "model.add(Dense(units=1, activation='sigmoid'))\n",
    "\n",
    "model.compile(loss='binary_crossentropy',optimizer='adam',metrics=['accuracy'])\n",
    "model.summary()"
   ]
  },
  {
   "cell_type": "code",
   "execution_count": null,
   "metadata": {
    "colab": {
     "base_uri": "https://localhost:8080/",
     "height": 350
    },
    "colab_type": "code",
    "executionInfo": {
     "elapsed": 4667561,
     "status": "ok",
     "timestamp": 1571823745309,
     "user": {
      "displayName": "Chung Nguyen Tat",
      "photoUrl": "https://lh3.googleusercontent.com/a-/AAuE7mASyjv7bT6SuBm900Cr4mngjm71UG1glmpjU29c=s64",
      "userId": "00326304500808701112"
     },
     "user_tz": -420
    },
    "id": "WtJputDhsq8t",
    "outputId": "b930ebeb-70da-4995-ecdd-a12ee22f5fb6"
   },
   "outputs": [
    {
     "name": "stdout",
     "output_type": "stream",
     "text": [
      "Train...\n",
      "WARNING:tensorflow:From /usr/local/lib/python3.6/dist-packages/keras/backend/tensorflow_backend.py:1033: The name tf.assign_add is deprecated. Please use tf.compat.v1.assign_add instead.\n",
      "\n",
      "WARNING:tensorflow:From /usr/local/lib/python3.6/dist-packages/keras/backend/tensorflow_backend.py:1020: The name tf.assign is deprecated. Please use tf.compat.v1.assign instead.\n",
      "\n",
      "Train on 21600 samples, validate on 2700 samples\n",
      "Epoch 1/20\n",
      "WARNING:tensorflow:From /usr/local/lib/python3.6/dist-packages/keras/backend/tensorflow_backend.py:190: The name tf.get_default_session is deprecated. Please use tf.compat.v1.get_default_session instead.\n",
      "\n",
      "WARNING:tensorflow:From /usr/local/lib/python3.6/dist-packages/keras/backend/tensorflow_backend.py:197: The name tf.ConfigProto is deprecated. Please use tf.compat.v1.ConfigProto instead.\n",
      "\n",
      "WARNING:tensorflow:From /usr/local/lib/python3.6/dist-packages/keras/backend/tensorflow_backend.py:207: The name tf.global_variables is deprecated. Please use tf.compat.v1.global_variables instead.\n",
      "\n",
      "WARNING:tensorflow:From /usr/local/lib/python3.6/dist-packages/keras/backend/tensorflow_backend.py:216: The name tf.is_variable_initialized is deprecated. Please use tf.compat.v1.is_variable_initialized instead.\n",
      "\n",
      "WARNING:tensorflow:From /usr/local/lib/python3.6/dist-packages/keras/backend/tensorflow_backend.py:223: The name tf.variables_initializer is deprecated. Please use tf.compat.v1.variables_initializer instead.\n",
      "\n",
      "  640/21600 [..............................] - ETA: 5:45 - loss: 0.6848 - acc: 0.5547"
     ]
    }
   ],
   "source": [
    "model.compile(loss='binary_crossentropy',optimizer='adam',metrics=['accuracy'])\n",
    "print('Train...')\n",
    "History = model.fit(_train_x, train_y,\n",
    "                    batch_size=128,\n",
    "                    epochs=20,\n",
    "                    validation_data = (_validation_x, validation_y)\n",
    "                     )"
   ]
  },
  {
   "cell_type": "code",
   "execution_count": null,
   "metadata": {
    "colab": {},
    "colab_type": "code",
    "id": "UR6-MUNCOM23"
   },
   "outputs": [],
   "source": [
    "scores = model.evaluate(_test_x, test_y, verbose=1)\n",
    "print('Test loss:', scores[0])\n",
    "print('Test accuracy:', scores[1])"
   ]
  },
  {
   "cell_type": "code",
   "execution_count": null,
   "metadata": {
    "colab": {},
    "colab_type": "code",
    "id": "nop2kfVlOrJd"
   },
   "outputs": [],
   "source": [
    "model_name = 'model-{epoch:20}-{val_acc:0.8844}.h5'\n",
    "if not os.path.isdir(save_dir):\n",
    "    os.makedirs(save_dir)\n",
    "model_path = os.path.join(save_dir, model_name)\n",
    "model.save(model_path)\n",
    "print('Saved trained model at %s ' % model_path)"
   ]
  },
  {
   "cell_type": "code",
   "execution_count": null,
   "metadata": {
    "colab": {},
    "colab_type": "code",
    "id": "u4tG3LbXLEMS"
   },
   "outputs": [],
   "source": [
    "#Visualize quá trình luyện dữ liệu \n",
    "fig = plt.figure()\n",
    "maxEpochs = 20\n",
    "plt.plot(np.arange(0, maxEpochs), History.history['loss'], label='training loss')\n",
    "plt.plot(np.arange(0, maxEpochs), History.history['val_loss'], label='validation loss')\n",
    "plt.plot(np.arange(0, maxEpochs), History.history['acc'], label='training accuracy')\n",
    "plt.plot(np.arange(0, maxEpochs), History.history['val_acc'], label='validation accuracy')\n",
    "plt.title('Accuracy and Loss')\n",
    "plt.xlabel('Epoch')\n",
    "plt.ylabel('Loss|Accuracy')\n",
    "plt.legend()"
   ]
  },
  {
   "cell_type": "code",
   "execution_count": null,
   "metadata": {
    "colab": {},
    "colab_type": "code",
    "id": "IveMiCS2SU-T"
   },
   "outputs": [],
   "source": [
    "#Hàm đoán cảm xúc bình luận\n",
    "def predict_sentence(model, sentence, thres_hold = 0.5):\n",
    "  indices_sen = get_sentence_indices(sentence, max_seq_length=200, _words_list=words_list)\n",
    "  ids2vec_sen = tf.nn.embedding_lookup(words_vector, indices_sen)\n",
    "  _vec_sen = tf.Session().run(ids2vec_sen)\n",
    "  _vec_sen=np.array([_vec_sen])\n",
    "  pred = model.predict(_vec_sen)[0][0]\n",
    "\n",
    "  if 0 < pred <= thres_hold:\n",
    "    print('NEGATIVE')\n",
    "  else: \n",
    "    print('POSITIVE')\n",
    "  print(pred)"
   ]
  },
  {
   "cell_type": "code",
   "execution_count": null,
   "metadata": {
    "colab": {},
    "colab_type": "code",
    "id": "kKDhuOjxukcs"
   },
   "outputs": [],
   "source": [
    "#Đoán thử một vài câu \n",
    "my_model = load_model(model_path)\n",
    "predict_sentence(my_model, sentence=\"Mình và người yêu đã đến đây cách đây 2 năm, trà sữa vẫn ngon như ngày nào\")"
   ]
  }
 ],
 "metadata": {
  "accelerator": "GPU",
  "colab": {
   "collapsed_sections": [],
   "machine_shape": "hm",
   "name": "projectSentiment.ipynb",
   "provenance": [
    {
     "file_id": "1APd0fRjaapY0RV3nun-BI28Vu-GI4xkI",
     "timestamp": 1571508750898
    }
   ],
   "toc_visible": true
  },
  "kernelspec": {
   "display_name": "Python 3",
   "language": "python",
   "name": "python3"
  },
  "language_info": {
   "codemirror_mode": {
    "name": "ipython",
    "version": 3
   },
   "file_extension": ".py",
   "mimetype": "text/x-python",
   "name": "python",
   "nbconvert_exporter": "python",
   "pygments_lexer": "ipython3",
   "version": "3.7.4"
  }
 },
 "nbformat": 4,
 "nbformat_minor": 4
}
